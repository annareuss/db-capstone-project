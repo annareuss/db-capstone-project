{
 "cells": [
  {
   "cell_type": "code",
   "execution_count": 45,
   "id": "f34f016c",
   "metadata": {},
   "outputs": [
    {
     "name": "stdout",
     "output_type": "stream",
     "text": [
      "Requirement already satisfied: mysql-connector-python in c:\\users\\anna_reuss\\appdata\\local\\programs\\python\\python310\\lib\\site-packages (8.0.32)\n",
      "Requirement already satisfied: protobuf<=3.20.3,>=3.11.0 in c:\\users\\anna_reuss\\appdata\\local\\programs\\python\\python310\\lib\\site-packages (from mysql-connector-python) (3.20.3)\n",
      "---------------------------\n",
      "Connection established\n"
     ]
    }
   ],
   "source": [
    "# Task-1\n",
    "# Install mysql-connector-python\n",
    "# --------------------------------------------------------------------\n",
    "!pip install mysql-connector-python\n",
    "\n",
    "# Check that your environment has been correctly configured:\n",
    "# --------------------------------------------------------------------\n",
    "import mysql.connector as connector\n",
    "\n",
    "# try to connect to the database\n",
    "print(\"---------------------------\")\n",
    "\n",
    "try:\n",
    "    connection=connector.connect(\n",
    "        user=\"lemonuser\",\n",
    "        password=\"lemOn.2303Usr\",\n",
    "        database = \"littlelemon\")\n",
    "    print(\"Connection established\")\n",
    "except connector.Error as er:\n",
    "    print(\"Error code:\", er.errno)\n",
    "    print(\"Error message:\", er.msg)\n"
   ]
  },
  {
   "cell_type": "code",
   "execution_count": 46,
   "id": "5fc424f6",
   "metadata": {},
   "outputs": [
    {
     "name": "stdout",
     "output_type": "stream",
     "text": [
      "('audit',)\n",
      "('bookings',)\n",
      "('bookings_audit',)\n",
      "('customers',)\n",
      "('delivery',)\n",
      "('menu',)\n",
      "('menuitems',)\n",
      "('orders',)\n",
      "('ordersview',)\n",
      "('staff',)\n"
     ]
    }
   ],
   "source": [
    "# Task-2\n",
    "# create cursor\n",
    "cursor=connection.cursor()    \n",
    "\n",
    "# prepare a variable with the SQL statement\n",
    "show_tables_query = \"SHOW tables\" \n",
    "\n",
    "# execute the cursor with the variable\n",
    "cursor.execute(show_tables_query)\n",
    "\n",
    "# confirm that the statement has been successfully executed\n",
    "for tables in cursor:\n",
    "    print(tables)"
   ]
  },
  {
   "cell_type": "code",
   "execution_count": 59,
   "id": "fa683863",
   "metadata": {},
   "outputs": [
    {
     "name": "stdout",
     "output_type": "stream",
     "text": [
      "('FullName', 'PhoneNr', 'Email', 'OrderID', 'TotalPrice')\n",
      "('Kevin Mitnick', 99562368, 'kmitnick@gmail.com', 7, Decimal('198.00'))\n",
      "('Michio Kaku', 88644409, 'mkaku@gmail.com', 6, Decimal('200.00'))\n"
     ]
    }
   ],
   "source": [
    "# Task-3\n",
    "old_result=cursor.fetchall()\n",
    "\n",
    "select_statement=\"\"\"select Customers.FullName, Customers.PhoneNr, Customers.Email, Orders.OrderID, Orders.TotalPrice \n",
    "from Orders join Customers \n",
    "on Orders.CustomerID=Customers.CustomerID \n",
    "where Orders.TotalPrice>=60 \n",
    "order by Orders.TotalPrice asc \"\"\"\n",
    "cursor.execute(select_statement)\n",
    "print(cursor.column_names)\n",
    "for row in cursor:\n",
    "    print(row)\n",
    "  "
   ]
  }
 ],
 "metadata": {
  "kernelspec": {
   "display_name": "Python 3 (ipykernel)",
   "language": "python",
   "name": "python3"
  },
  "language_info": {
   "codemirror_mode": {
    "name": "ipython",
    "version": 3
   },
   "file_extension": ".py",
   "mimetype": "text/x-python",
   "name": "python",
   "nbconvert_exporter": "python",
   "pygments_lexer": "ipython3",
   "version": "3.10.10"
  }
 },
 "nbformat": 4,
 "nbformat_minor": 5
}
